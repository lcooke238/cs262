{
 "cells": [
  {
   "cell_type": "code",
   "execution_count": 33,
   "metadata": {},
   "outputs": [
    {
     "name": "stdout",
     "output_type": "stream",
     "text": [
      "   ExistingUsers     Michelle\n",
      "0            NaN          NaN\n",
      "1            NaN  Hi!;;Lauren\n",
      "2            NaN          NaN\n",
      "['ExistingUsers', 'Michelle']\n",
      "   ExistingUsers     Michelle\n",
      "0            NaN          NaN\n",
      "1            NaN  Hi!;;Lauren\n",
      "2            NaN          NaN\n",
      "nan\n",
      "[True, True, True]\n"
     ]
    }
   ],
   "source": [
    "import pandas as pd\n",
    "import numpy as np\n",
    "\n",
    "data_df = pd.read_csv('../data/data.csv')\n",
    "#print(data_df)\n",
    "print(data_df)\n",
    "cols=[]\n",
    "for col in data_df.columns:\n",
    "    cols.append(col)\n",
    "print(cols)\n",
    "\n",
    "data_df = data_df.replace(r'^\\s*$', np.nan, regex=True)\n",
    "print(data_df)\n",
    "\n",
    "GoodRows = []\n",
    "for i in range(len(data_df)):\n",
    "    Nu = False\n",
    "    for j in range(len(cols)):\n",
    "        if data_df[col][i] != data_df[col[0]][i]:\n",
    "            Nu = True\n",
    "    GoodRows.append(Nu)\n",
    "print(GoodRows)\n",
    "\n",
    "\n",
    "\n"
   ]
  },
  {
   "cell_type": "code",
   "execution_count": null,
   "metadata": {},
   "outputs": [],
   "source": []
  }
 ],
 "metadata": {
  "kernelspec": {
   "display_name": "Python 3",
   "language": "python",
   "name": "python3"
  },
  "language_info": {
   "name": "python",
   "version": "3.10.8"
  },
  "orig_nbformat": 4,
  "vscode": {
   "interpreter": {
    "hash": "b0fa6594d8f4cbf19f97940f81e996739fb7646882a419484c72d19e05852a7e"
   }
  }
 },
 "nbformat": 4,
 "nbformat_minor": 2
}
