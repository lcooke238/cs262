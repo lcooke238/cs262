{
 "cells": [
  {
   "cell_type": "code",
   "execution_count": 26,
   "metadata": {},
   "outputs": [
    {
     "name": "stdout",
     "output_type": "stream",
     "text": [
      "  ExistingUsers\n",
      "0        Lauren\n",
      "1          test\n",
      "['Lauren', nan]\n",
      "Empty DataFrame\n",
      "Columns: []\n",
      "Index: [0, 1]\n",
      "  ExistingUsers\n",
      "0        Lauren\n",
      "1           NaN\n"
     ]
    },
    {
     "name": "stderr",
     "output_type": "stream",
     "text": [
      "/var/folders/8y/5_v9fljd3nn234twc_p38rx40000gn/T/ipykernel_85286/3885333501.py:6: FutureWarning: The frame.append method is deprecated and will be removed from pandas in a future version. Use pandas.concat instead.\n",
      "  data_df = data_df.append({\"ExistingUsers\": \"test\"}, ignore_index=True)\n"
     ]
    }
   ],
   "source": [
    "import pandas as pd\n",
    "import numpy as np\n",
    "\n",
    "data_df = pd.read_csv('data.csv')\n",
    "if \"test\" not in list(data_df[\"ExistingUsers\"]):\n",
    "    data_df = data_df.append({\"ExistingUsers\": \"test\"}, ignore_index=True)\n",
    "print(data_df)\n",
    "lst = list(data_df[\"ExistingUsers\"])\n",
    "lst.remove(\"test\")\n",
    "lst.append(np.NAN)\n",
    "print(lst)\n",
    "data_df = data_df.drop(\"ExistingUsers\", axis='columns')\n",
    "print(data_df)\n",
    "data_df = data_df.assign(ExistingUsers=lst)\n",
    "print(data_df)"
   ]
  },
  {
   "cell_type": "code",
   "execution_count": null,
   "metadata": {},
   "outputs": [],
   "source": []
  },
  {
   "cell_type": "code",
   "execution_count": 32,
   "metadata": {},
   "outputs": [
    {
     "name": "stdout",
     "output_type": "stream",
     "text": [
      "None\n",
      "Empty DataFrame\n",
      "Columns: [ExistingUsers]\n",
      "Index: []\n"
     ]
    }
   ],
   "source": [
    "user_df = pd.read_csv(\"data2.csv\")\n",
    "lst = list(user_df[\"ExistingUsers\"])\n",
    "lst = lst.remove(\"hi\")\n",
    "print(lst)\n",
    "try:\n",
    "    new_user_df = pd.DataFrame({\"ExistingUsers\": lst})\n",
    "    new_user_df.to_csv(\"data2.csv\", index=False)\n",
    "except:\n",
    "    new_user_df = pd.DataFrame({\"ExistingUsers\": []})\n",
    "    new_user_df.to_csv(\"data2.csv\", index=False)\n",
    "data_df = pd.read_csv(\"data2.csv\")\n",
    "print(data_df)\n"
   ]
  },
  {
   "cell_type": "code",
   "execution_count": 11,
   "metadata": {},
   "outputs": [
    {
     "name": "stdout",
     "output_type": "stream",
     "text": [
      "Empty DataFrame\n",
      "Columns: [ExistingUsers]\n",
      "Index: []\n",
      "  ExistingUsers usr\n",
      "0           NaN  hi\n"
     ]
    }
   ],
   "source": [
    "import pandas as pd\n",
    "data_df = pd.read_csv(\"data2.csv\")\n",
    "print(data_df)\n",
    "usr = \"username\"\n",
    "msg = \"hi\"\n",
    "msg2 = \"bye\"\n",
    "data_df = data_df.assign(usr=[msg])\n",
    "print(data_df)\n",
    "if usr in list(data_df.columns):\n",
    "    data_df = data_df.append({usr: [msg]}, ignore_index=True)\n",
    "    print(data_df)\n",
    "# else:\n",
    "#     data_df = data_df.insert(0, usr, [msg], True)\n",
    "#     print(data_df)\n",
    "    #save dataframe to csv\n",
    "    #data_df.to_csv(database, index=False)"
   ]
  },
  {
   "cell_type": "code",
   "execution_count": null,
   "metadata": {},
   "outputs": [],
   "source": []
  }
 ],
 "metadata": {
  "kernelspec": {
   "display_name": "Python 3",
   "language": "python",
   "name": "python3"
  },
  "language_info": {
   "codemirror_mode": {
    "name": "ipython",
    "version": 3
   },
   "file_extension": ".py",
   "mimetype": "text/x-python",
   "name": "python",
   "nbconvert_exporter": "python",
   "pygments_lexer": "ipython3",
   "version": "3.10.8"
  },
  "orig_nbformat": 4,
  "vscode": {
   "interpreter": {
    "hash": "b0fa6594d8f4cbf19f97940f81e996739fb7646882a419484c72d19e05852a7e"
   }
  }
 },
 "nbformat": 4,
 "nbformat_minor": 2
}
