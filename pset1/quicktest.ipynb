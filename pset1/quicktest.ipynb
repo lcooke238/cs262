{
 "cells": [
  {
   "cell_type": "code",
   "execution_count": 11,
   "metadata": {},
   "outputs": [
    {
     "name": "stdout",
     "output_type": "stream",
     "text": [
      "  ExistingUsers\n",
      "0        Lauren\n",
      "1          test\n"
     ]
    },
    {
     "name": "stderr",
     "output_type": "stream",
     "text": [
      "/var/folders/8y/5_v9fljd3nn234twc_p38rx40000gn/T/ipykernel_85286/2942692278.py:5: FutureWarning: The frame.append method is deprecated and will be removed from pandas in a future version. Use pandas.concat instead.\n",
      "  data_df = data_df.append({\"ExistingUsers\": \"test\"}, ignore_index=True)\n"
     ]
    },
    {
     "ename": "TypeError",
     "evalue": "DataFrame.insert() got an unexpected keyword argument 'ignore_index'",
     "output_type": "error",
     "traceback": [
      "\u001b[0;31m---------------------------------------------------------------------------\u001b[0m",
      "\u001b[0;31mTypeError\u001b[0m                                 Traceback (most recent call last)",
      "Cell \u001b[0;32mIn[11], line 10\u001b[0m\n\u001b[1;32m      8\u001b[0m lst\u001b[39m.\u001b[39mremove(\u001b[39m\"\u001b[39m\u001b[39mtest\u001b[39m\u001b[39m\"\u001b[39m)\n\u001b[1;32m      9\u001b[0m data_df \u001b[39m=\u001b[39m data_df\u001b[39m.\u001b[39mdrop(\u001b[39m\"\u001b[39m\u001b[39mExistingUsers\u001b[39m\u001b[39m\"\u001b[39m, axis\u001b[39m=\u001b[39m\u001b[39m'\u001b[39m\u001b[39mcolumns\u001b[39m\u001b[39m'\u001b[39m)\n\u001b[0;32m---> 10\u001b[0m data_df \u001b[39m=\u001b[39m data_df\u001b[39m.\u001b[39;49minsert(\u001b[39m0\u001b[39;49m,\u001b[39m\"\u001b[39;49m\u001b[39mExistingUsers\u001b[39;49m\u001b[39m\"\u001b[39;49m, lst, ignore_index\u001b[39m=\u001b[39;49m\u001b[39mTrue\u001b[39;49;00m)\n\u001b[1;32m     11\u001b[0m \u001b[39mprint\u001b[39m(data_df)\n",
      "\u001b[0;31mTypeError\u001b[0m: DataFrame.insert() got an unexpected keyword argument 'ignore_index'"
     ]
    }
   ],
   "source": [
    "import pandas as pd\n",
    "\n",
    "data_df = pd.read_csv('data.csv')\n",
    "if \"test\" not in list(data_df[\"ExistingUsers\"]):\n",
    "    data_df = data_df.append({\"ExistingUsers\": \"test\"}, ignore_index=True)\n",
    "print(data_df)\n",
    "lst = list(data_df[\"ExistingUsers\"])\n",
    "lst.remove(\"test\")\n",
    "data_df = data_df.drop(\"ExistingUsers\", axis='columns')\n",
    "data_df = data_df.insert(0,\"ExistingUsers\", lst)\n",
    "print(data_df)"
   ]
  },
  {
   "cell_type": "code",
   "execution_count": null,
   "metadata": {},
   "outputs": [],
   "source": []
  }
 ],
 "metadata": {
  "kernelspec": {
   "display_name": "Python 3",
   "language": "python",
   "name": "python3"
  },
  "language_info": {
   "codemirror_mode": {
    "name": "ipython",
    "version": 3
   },
   "file_extension": ".py",
   "mimetype": "text/x-python",
   "name": "python",
   "nbconvert_exporter": "python",
   "pygments_lexer": "ipython3",
   "version": "3.10.8"
  },
  "orig_nbformat": 4,
  "vscode": {
   "interpreter": {
    "hash": "b0fa6594d8f4cbf19f97940f81e996739fb7646882a419484c72d19e05852a7e"
   }
  }
 },
 "nbformat": 4,
 "nbformat_minor": 2
}
