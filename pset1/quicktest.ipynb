{
 "cells": [
  {
   "cell_type": "code",
   "execution_count": 26,
   "metadata": {},
   "outputs": [
    {
     "name": "stdout",
     "output_type": "stream",
     "text": [
      "  ExistingUsers\n",
      "0        Lauren\n",
      "1          test\n",
      "['Lauren', nan]\n",
      "Empty DataFrame\n",
      "Columns: []\n",
      "Index: [0, 1]\n",
      "  ExistingUsers\n",
      "0        Lauren\n",
      "1           NaN\n"
     ]
    },
    {
     "name": "stderr",
     "output_type": "stream",
     "text": [
      "/var/folders/8y/5_v9fljd3nn234twc_p38rx40000gn/T/ipykernel_85286/3885333501.py:6: FutureWarning: The frame.append method is deprecated and will be removed from pandas in a future version. Use pandas.concat instead.\n",
      "  data_df = data_df.append({\"ExistingUsers\": \"test\"}, ignore_index=True)\n"
     ]
    }
   ],
   "source": [
    "import pandas as pd\n",
    "import numpy as np\n",
    "\n",
    "data_df = pd.read_csv('data.csv')\n",
    "if \"test\" not in list(data_df[\"ExistingUsers\"]):\n",
    "    data_df = data_df.append({\"ExistingUsers\": \"test\"}, ignore_index=True)\n",
    "print(data_df)\n",
    "lst = list(data_df[\"ExistingUsers\"])\n",
    "lst.remove(\"test\")\n",
    "lst.append(np.NAN)\n",
    "print(lst)\n",
    "data_df = data_df.drop(\"ExistingUsers\", axis='columns')\n",
    "print(data_df)\n",
    "data_df = data_df.assign(ExistingUsers=lst)\n",
    "print(data_df)"
   ]
  },
  {
   "cell_type": "code",
   "execution_count": null,
   "metadata": {},
   "outputs": [],
   "source": []
  },
  {
   "cell_type": "code",
   "execution_count": 32,
   "metadata": {},
   "outputs": [
    {
     "name": "stdout",
     "output_type": "stream",
     "text": [
      "None\n",
      "Empty DataFrame\n",
      "Columns: [ExistingUsers]\n",
      "Index: []\n"
     ]
    }
   ],
   "source": [
    "user_df = pd.read_csv(\"data2.csv\")\n",
    "lst = list(user_df[\"ExistingUsers\"])\n",
    "lst = lst.remove(\"hi\")\n",
    "print(lst)\n",
    "try:\n",
    "    new_user_df = pd.DataFrame({\"ExistingUsers\": lst})\n",
    "    new_user_df.to_csv(\"data2.csv\", index=False)\n",
    "except:\n",
    "    new_user_df = pd.DataFrame({\"ExistingUsers\": []})\n",
    "    new_user_df.to_csv(\"data2.csv\", index=False)\n",
    "data_df = pd.read_csv(\"data2.csv\")\n",
    "print(data_df)\n"
   ]
  },
  {
   "cell_type": "code",
   "execution_count": 23,
   "metadata": {},
   "outputs": [
    {
     "name": "stdout",
     "output_type": "stream",
     "text": [
      "Empty DataFrame\n",
      "Columns: [ExistingUsers]\n",
      "Index: []\n",
      "  ExistingUsers username\n",
      "0           NaN       hi\n",
      "  ExistingUsers username\n",
      "0           NaN       hi\n",
      "1           NaN      bye\n",
      "hi\n",
      "bye\n",
      "  ExistingUsers\n",
      "0           NaN\n",
      "1           NaN\n"
     ]
    },
    {
     "name": "stderr",
     "output_type": "stream",
     "text": [
      "/var/folders/8y/5_v9fljd3nn234twc_p38rx40000gn/T/ipykernel_89266/3286198334.py:16: FutureWarning: The frame.append method is deprecated and will be removed from pandas in a future version. Use pandas.concat instead.\n",
      "  new_df_2 = new_df_2.append({usr: msg2}, ignore_index=True)\n"
     ]
    }
   ],
   "source": [
    "import pandas as pd\n",
    "data_df = pd.read_csv(\"data2.csv\")\n",
    "print(data_df)\n",
    "usr = \"username\"\n",
    "msg = \"hi\"\n",
    "msg2 = \"bye\"\n",
    "\n",
    "new_df = pd.DataFrame({usr: [msg]})\n",
    "\n",
    "new_df_2 = pd.concat([data_df, new_df])\n",
    "print(new_df_2)\n",
    "\n",
    "# data_df = data_df.insert(0,usr,[msg],True)\n",
    "# print(data_df)\n",
    "if usr in list(new_df_2.columns):\n",
    "    new_df_2 = new_df_2.append({usr: msg2}, ignore_index=True)\n",
    "print(new_df_2)\n",
    "\n",
    "if usr in list(new_df_2.columns):\n",
    "    msgs = list(new_df_2[usr])\n",
    "    for msg in msgs:\n",
    "        print(msg)\n",
    "    #delete that column from the dataset\n",
    "    new_df_2 = new_df_2.drop(usr, axis='columns')\n",
    "    print(new_df_2)\n",
    "\n"
   ]
  },
  {
   "cell_type": "code",
   "execution_count": 13,
   "metadata": {},
   "outputs": [
    {
     "name": "stdout",
     "output_type": "stream",
     "text": [
      "   ExistingUsers                             Michelle\n",
      "0            NaN  bytearray(b'0   016  8MichelleHi!')\n",
      "b\"bytearray(b'0   016  8MichelleHi!')\"\n"
     ]
    }
   ],
   "source": [
    "import pandas as pd\n",
    "data_df = pd.read_csv('data.csv')\n",
    "print(data_df)\n",
    "for msg in data_df[\"Michelle\"]:\n",
    "    print(msg.encode())\n",
    "   # print(#msg[10:len(msg)-1].decode('utf-8'))"
   ]
  },
  {
   "cell_type": "code",
   "execution_count": 14,
   "metadata": {},
   "outputs": [
    {
     "name": "stdout",
     "output_type": "stream",
     "text": [
      "['b', 'c']\n"
     ]
    }
   ],
   "source": [
    "lst = [\"a\", \"b\", \"c\"]\n",
    "lst.remove(\"a\")\n",
    "print(lst)"
   ]
  },
  {
   "cell_type": "code",
   "execution_count": null,
   "metadata": {},
   "outputs": [],
   "source": []
  }
 ],
 "metadata": {
  "kernelspec": {
   "display_name": "Python 3",
   "language": "python",
   "name": "python3"
  },
  "language_info": {
   "codemirror_mode": {
    "name": "ipython",
    "version": 3
   },
   "file_extension": ".py",
   "mimetype": "text/x-python",
   "name": "python",
   "nbconvert_exporter": "python",
   "pygments_lexer": "ipython3",
   "version": "3.10.8"
  },
  "orig_nbformat": 4,
  "vscode": {
   "interpreter": {
    "hash": "b0fa6594d8f4cbf19f97940f81e996739fb7646882a419484c72d19e05852a7e"
   }
  }
 },
 "nbformat": 4,
 "nbformat_minor": 2
}
